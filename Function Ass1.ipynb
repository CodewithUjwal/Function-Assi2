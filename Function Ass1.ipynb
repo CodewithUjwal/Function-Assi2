{
 "cells": [
  {
   "cell_type": "code",
   "execution_count": 4,
   "id": "ecc194a6-b84a-4525-9513-269e1c77fa94",
   "metadata": {},
   "outputs": [],
   "source": [
    "#Q1\n",
    "#def function is used to create function\n",
    "def odd(n):\n",
    "    for i in range(25):\n",
    "        if i%2!=0:\n",
    "            print(i)"
   ]
  },
  {
   "cell_type": "code",
   "execution_count": 6,
   "id": "9ac35249-3483-4474-8478-01724ca19082",
   "metadata": {},
   "outputs": [
    {
     "name": "stdout",
     "output_type": "stream",
     "text": [
      "1\n",
      "3\n",
      "5\n",
      "7\n",
      "9\n",
      "11\n",
      "13\n",
      "15\n",
      "17\n",
      "19\n",
      "21\n",
      "23\n"
     ]
    }
   ],
   "source": [
    "odd(25)"
   ]
  },
  {
   "cell_type": "code",
   "execution_count": 8,
   "id": "b7f768f4-b81d-41e2-a1a5-745df663f6d4",
   "metadata": {},
   "outputs": [],
   "source": [
    "#Q2\n",
    "#*args are used to giving n no of arguments to the function while **kwargs are going to give the value of key value or it will be a type of dictionary\n",
    "def ujwal(*args):\n",
    "    return args"
   ]
  },
  {
   "cell_type": "code",
   "execution_count": 9,
   "id": "05c8c3ca-bd20-4b06-b8ea-ecf2788724b6",
   "metadata": {},
   "outputs": [
    {
     "data": {
      "text/plain": [
       "(1, 2, 3, 4, 56, 7)"
      ]
     },
     "execution_count": 9,
     "metadata": {},
     "output_type": "execute_result"
    }
   ],
   "source": [
    "ujwal(1,2,3,4,56,7)"
   ]
  },
  {
   "cell_type": "code",
   "execution_count": 10,
   "id": "3f37454b-ed7f-475b-a2ab-c83ff9f489e7",
   "metadata": {},
   "outputs": [],
   "source": [
    "def singh(**kwargs):\n",
    "    return kwargs"
   ]
  },
  {
   "cell_type": "code",
   "execution_count": 11,
   "id": "9182d15f-72fd-47ea-8187-bdac2bbcb2aa",
   "metadata": {},
   "outputs": [
    {
     "data": {
      "text/plain": [
       "{'a': 'ujwal', 'b': 'singh', 'c': [10, 20, 30]}"
      ]
     },
     "execution_count": 11,
     "metadata": {},
     "output_type": "execute_result"
    }
   ],
   "source": [
    "singh(a='ujwal', b= 'singh', c=[10,20,30])"
   ]
  },
  {
   "cell_type": "code",
   "execution_count": 13,
   "id": "c85de402-16d7-4e32-93d9-8313ce834545",
   "metadata": {},
   "outputs": [
    {
     "name": "stdout",
     "output_type": "stream",
     "text": [
      "2\n",
      "4\n",
      "6\n",
      "8\n",
      "10\n"
     ]
    }
   ],
   "source": [
    "#Q3\n",
    "#To allow for efficient access to elements in a sequence one at a time\n",
    "#iter() method is used to initialize the iterator\n",
    "list= [2, 4, 6, 8, 10, 12, 14, 16, 18, 20]\n",
    "l1 = iter(list)\n",
    "for i in range(5):\n",
    "    print(next(l1))\n",
    "    \n"
   ]
  },
  {
   "cell_type": "code",
   "execution_count": 13,
   "id": "3f318d40-e563-43f3-9733-1a25dc06f597",
   "metadata": {},
   "outputs": [],
   "source": [
    "#Q4\n",
    "#Generator function basically used to iterate the data. It is also called as iterator function.\n",
    "#Yield is used to provide outcomes outcomes for the specific input provide by the user it is used for optimization problem\n",
    "def rif(n):\n",
    "    a,b = 2,3\n",
    "    for i in range(n):\n",
    "        yield a\n",
    "        a,b= b, a+1\n",
    "        "
   ]
  },
  {
   "cell_type": "code",
   "execution_count": 16,
   "id": "d8c73d68-03ef-444e-9391-bceff59f6ebb",
   "metadata": {},
   "outputs": [
    {
     "name": "stdout",
     "output_type": "stream",
     "text": [
      "2\n",
      "3\n",
      "3\n",
      "4\n",
      "4\n",
      "5\n",
      "5\n",
      "6\n",
      "6\n",
      "7\n"
     ]
    }
   ],
   "source": [
    "for i in rif(10):\n",
    "    print(i)"
   ]
  },
  {
   "cell_type": "code",
   "execution_count": 17,
   "id": "5039193e-e256-4cdc-ab8f-3f4c70beb136",
   "metadata": {},
   "outputs": [
    {
     "name": "stdout",
     "output_type": "stream",
     "text": [
      "0\n",
      "1\n",
      "1\n",
      "2\n",
      "3\n",
      "5\n",
      "8\n",
      "13\n",
      "21\n",
      "34\n"
     ]
    }
   ],
   "source": [
    "#Q6\n",
    "def fib():\n",
    "    a,b = 0,1\n",
    "    while True:\n",
    "        yield a\n",
    "        a,b= b ,  a+b \n",
    "        \n",
    "obj = fib()\n",
    "\n",
    "for i in range(10):\n",
    "    print(next(obj))\n",
    "    "
   ]
  },
  {
   "cell_type": "code",
   "execution_count": null,
   "id": "e380e379-39b9-4dba-bcc7-bbb19a546e2a",
   "metadata": {},
   "outputs": [],
   "source": [
    "#Q5\n",
    "def prime():\n",
    "    a = int\n",
    "        "
   ]
  },
  {
   "cell_type": "code",
   "execution_count": 22,
   "id": "ddb5911c-fbf8-4f88-b152-08895ac86787",
   "metadata": {},
   "outputs": [
    {
     "name": "stdout",
     "output_type": "stream",
     "text": [
      "['p', 'w', 's', 'k', 'i', 'l', 'l', 's']\n"
     ]
    }
   ],
   "source": [
    "s='pwskills'\n",
    "z=[]\n",
    "for i in s:\n",
    "    z.append(i)\n",
    "print(z)"
   ]
  },
  {
   "cell_type": "code",
   "execution_count": 4,
   "id": "66f4f75c-ea3a-4364-a770-7e3c43ac5906",
   "metadata": {},
   "outputs": [
    {
     "name": "stdin",
     "output_type": "stream",
     "text": [
      " 56\n"
     ]
    },
    {
     "name": "stdout",
     "output_type": "stream",
     "text": [
      "Nhi hai\n"
     ]
    }
   ],
   "source": [
    "s=input()\n",
    "l=list(s)\n",
    "l1=l[::-1]\n",
    "k=0\n",
    "i=0\n",
    "while i<len(l):\n",
    "    if(l[i]==l1[i]):\n",
    "        k+=1\n",
    "    i+=1\n",
    "if k==len(l):\n",
    "    print(\"Pallindrome haii\")\n",
    "else:\n",
    "    print(\"Nhi hai\")"
   ]
  },
  {
   "cell_type": "code",
   "execution_count": 8,
   "id": "ba0bd911-7ca5-4c15-86fc-3f39038566a3",
   "metadata": {},
   "outputs": [
    {
     "ename": "TypeError",
     "evalue": "<lambda>() takes 0 positional arguments but 1 was given",
     "output_type": "error",
     "traceback": [
      "\u001b[0;31m---------------------------------------------------------------------------\u001b[0m",
      "\u001b[0;31mTypeError\u001b[0m                                 Traceback (most recent call last)",
      "Cell \u001b[0;32mIn[8], line 4\u001b[0m\n\u001b[1;32m      2\u001b[0m \u001b[38;5;28;01mfor\u001b[39;00m i \u001b[38;5;129;01min\u001b[39;00m \u001b[38;5;28mrange\u001b[39m(\u001b[38;5;241m100\u001b[39m):\n\u001b[1;32m      3\u001b[0m     l\u001b[38;5;241m.\u001b[39mappend(i\u001b[38;5;241m+\u001b[39m\u001b[38;5;241m1\u001b[39m)\n\u001b[0;32m----> 4\u001b[0m \u001b[38;5;28;43mlist\u001b[39;49m\u001b[43m(\u001b[49m\u001b[38;5;28;43mfilter\u001b[39;49m\u001b[43m(\u001b[49m\u001b[38;5;28;43;01mlambda\u001b[39;49;00m\u001b[43m:\u001b[49m\u001b[43mx\u001b[49m\u001b[38;5;241;43m%\u001b[39;49m\u001b[38;5;241;43m2\u001b[39;49m\u001b[38;5;241;43m!=\u001b[39;49m\u001b[38;5;241;43m0\u001b[39;49m\u001b[43m,\u001b[49m\u001b[43ml\u001b[49m\u001b[43m)\u001b[49m\u001b[43m)\u001b[49m\n",
      "\u001b[0;31mTypeError\u001b[0m: <lambda>() takes 0 positional arguments but 1 was given"
     ]
    }
   ],
   "source": [
    "l=[]\n",
    "for i in range(100):\n",
    "    l.append(i+1)\n",
    "list(filter(lambda:x%2!=0,l))"
   ]
  },
  {
   "cell_type": "code",
   "execution_count": null,
   "id": "e0d8b66f-fc6a-44c8-b545-6c74e36809bd",
   "metadata": {},
   "outputs": [],
   "source": []
  }
 ],
 "metadata": {
  "kernelspec": {
   "display_name": "Python 3 (ipykernel)",
   "language": "python",
   "name": "python3"
  },
  "language_info": {
   "codemirror_mode": {
    "name": "ipython",
    "version": 3
   },
   "file_extension": ".py",
   "mimetype": "text/x-python",
   "name": "python",
   "nbconvert_exporter": "python",
   "pygments_lexer": "ipython3",
   "version": "3.10.8"
  }
 },
 "nbformat": 4,
 "nbformat_minor": 5
}
